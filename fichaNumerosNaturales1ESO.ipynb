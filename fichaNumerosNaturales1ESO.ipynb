{
 "cells": [
  {
   "cell_type": "code",
   "execution_count": 1,
   "metadata": {},
   "outputs": [],
   "source": [
    "resto(arg...)=rem(arg...);"
   ]
  },
  {
   "cell_type": "markdown",
   "metadata": {},
   "source": [
    "# Hoja de problemas de números naturales"
   ]
  },
  {
   "cell_type": "markdown",
   "metadata": {},
   "source": [
    "Resuleve los problemas como el del ejemplo, explica cada paso que hay que realizar."
   ]
  },
  {
   "cell_type": "markdown",
   "metadata": {},
   "source": [
    "Problema de ejemplo:\n",
    "Manuel ha almacenado su cosecha de naranjas en 137 cajas de 6 kg cada una. Para poder distribuirla mejor, decide colocarla en cajas de 8 kg. ¿Cuántas cajas necesitará? ¿Le quedará algún kilo sin colocar? (Sol: 102 cajas, sobran 6 kilos)."
   ]
  },
  {
   "cell_type": "markdown",
   "metadata": {},
   "source": [
    "Explicación: Para la pregunta, ¿Cuántas cajas necesitará?, como queremos cajas de 8 Kg, tenemos que dividir el número de kilos de naranjas entre 8, pero ese número de kilos nos es desconocido. Para calcularlo tenemos que multiplicar el número de cajas de 6 kilos por el número de cajas:"
   ]
  },
  {
   "cell_type": "code",
   "execution_count": 2,
   "metadata": {},
   "outputs": [
    {
     "data": {
      "text/plain": [
       "822"
      ]
     },
     "execution_count": 2,
     "metadata": {},
     "output_type": "execute_result"
    }
   ],
   "source": [
    "nKilos = 137*6"
   ]
  },
  {
   "cell_type": "code",
   "execution_count": 3,
   "metadata": {},
   "outputs": [
    {
     "data": {
      "text/plain": [
       "102"
      ]
     },
     "execution_count": 3,
     "metadata": {},
     "output_type": "execute_result"
    }
   ],
   "source": [
    "nCajas=nKilos÷8"
   ]
  },
  {
   "cell_type": "markdown",
   "metadata": {},
   "source": [
    "Necesitamos 102 cajas de 8 kilos.\n",
    "Y en la variable nCajas obtenemos la respuesta, para la segunda pregunta, ¿le quedará algún kilo sin colocar?, podemos comprobar si el resto de dividir nCajas entre 8 no es cero, si no es cero serán los kilos que quedan sin resolver. "
   ]
  },
  {
   "cell_type": "code",
   "execution_count": 4,
   "metadata": {},
   "outputs": [
    {
     "data": {
      "text/plain": [
       "6"
      ]
     },
     "execution_count": 4,
     "metadata": {},
     "output_type": "execute_result"
    }
   ],
   "source": [
    "ksobran = resto(nCajas,8) "
   ]
  },
  {
   "cell_type": "markdown",
   "metadata": {},
   "source": [
    "nos sobran 6 kilos de naranjas."
   ]
  },
  {
   "cell_type": "markdown",
   "metadata": {},
   "source": [
    "# 1º Problema"
   ]
  },
  {
   "cell_type": "markdown",
   "metadata": {},
   "source": [
    "En una ciudad viven 17 920 personas y hay un\n",
    "árbol por cada 64 habitantes.\n",
    "a) ¿Cuántos árboles hay en la ciudad?\n",
    "b) ¿Cuántos árboles habrá que plantar para tener uno por cada 16 personas?\n",
    "(Sol a) 280 árboles, b) 840 árboles"
   ]
  },
  {
   "cell_type": "markdown",
   "metadata": {},
   "source": [
    "Explicación:"
   ]
  },
  {
   "cell_type": "code",
   "execution_count": null,
   "metadata": {},
   "outputs": [],
   "source": []
  },
  {
   "cell_type": "markdown",
   "metadata": {},
   "source": [
    "# 2º Problema"
   ]
  },
  {
   "cell_type": "markdown",
   "metadata": {},
   "source": [
    "En una repostería empaquetan sus galletas en docenas que, a su vez, se vuelven a empaquetar en cajas de 12. Acaban\n",
    "de recibir un pedido de 25 cajas. ¿Cuántas galletas necesitan? Expresa la operación utilizando potencias.(sol:Necesitan 3 600 galletas)"
   ]
  },
  {
   "cell_type": "markdown",
   "metadata": {},
   "source": [
    "Explicación:"
   ]
  },
  {
   "cell_type": "code",
   "execution_count": null,
   "metadata": {},
   "outputs": [],
   "source": []
  }
 ],
 "metadata": {
  "kernelspec": {
   "display_name": "Julia 1.5.2",
   "language": "julia",
   "name": "julia-1.5"
  },
  "language_info": {
   "file_extension": ".jl",
   "mimetype": "application/julia",
   "name": "julia",
   "version": "1.5.2"
  }
 },
 "nbformat": 4,
 "nbformat_minor": 4
}
