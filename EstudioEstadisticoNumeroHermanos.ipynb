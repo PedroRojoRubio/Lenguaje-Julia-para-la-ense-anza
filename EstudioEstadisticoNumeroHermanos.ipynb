{
 "cells": [
  {
   "cell_type": "markdown",
   "metadata": {},
   "source": [
    "Librerías necesarias para ejecutar el notebook"
   ]
  },
  {
   "cell_type": "code",
   "execution_count": 25,
   "metadata": {},
   "outputs": [],
   "source": [
    "using StatsBase\n",
    "using Plots\n",
    "using DataFrames\n",
    "using StatsPlots"
   ]
  },
  {
   "cell_type": "markdown",
   "metadata": {},
   "source": [
    "Selecciona el número de datos para el siguiente estudio estadístico sobre el número de hermanos que tienen los alumnos de este instituto, siendo “n”, el número de alumnos encuestados, El número de alumnos es 1000 por defecto, puedes cambiarlo para realizar otros estudios."
   ]
  },
  {
   "cell_type": "code",
   "execution_count": 1,
   "metadata": {},
   "outputs": [
    {
     "data": {
      "text/plain": [
       "1000"
      ]
     },
     "execution_count": 1,
     "metadata": {},
     "output_type": "execute_result"
    }
   ],
   "source": [
    "n=1000 # n= número de alumnos del centro al que se le realiza la encuesta, "
   ]
  },
  {
   "cell_type": "markdown",
   "metadata": {},
   "source": [
    "Vamos a suponer que las respuestas de los alumnos varían entre 0 y 4 hermanos, y de entre ese rango de número de hermanos vamos a generar el conjunto de datos recogidos en la encuesta. Puedes cambiar el conjunto de número de hermanos o ampliarlo para modificar el estudio."
   ]
  },
  {
   "cell_type": "code",
   "execution_count": 3,
   "metadata": {},
   "outputs": [
    {
     "data": {
      "text/plain": [
       "1000-element Array{Int64,1}:\n",
       " 2\n",
       " 0\n",
       " 4\n",
       " 2\n",
       " 3\n",
       " 4\n",
       " 4\n",
       " 1\n",
       " 0\n",
       " 4\n",
       " 2\n",
       " 1\n",
       " 3\n",
       " ⋮\n",
       " 0\n",
       " 0\n",
       " 1\n",
       " 0\n",
       " 3\n",
       " 3\n",
       " 0\n",
       " 4\n",
       " 4\n",
       " 3\n",
       " 1\n",
       " 0"
      ]
     },
     "execution_count": 3,
     "metadata": {},
     "output_type": "execute_result"
    }
   ],
   "source": [
    "datos = [rand((0,1,2,3,4)) for i in 1:n] # generamos el conjunto de datos para el estudio."
   ]
  },
  {
   "cell_type": "markdown",
   "metadata": {},
   "source": [
    "La siguiente línea de código nos proporciona un primer resumen estadístico de los datos generados:"
   ]
  },
  {
   "cell_type": "code",
   "execution_count": 9,
   "metadata": {},
   "outputs": [
    {
     "data": {
      "text/plain": [
       "Summary Stats:\n",
       "Length:         1000\n",
       "Missing Count:  0\n",
       "Mean:           2.049000\n",
       "Minimum:        0.000000\n",
       "1st Quartile:   1.000000\n",
       "Median:         2.000000\n",
       "3rd Quartile:   3.000000\n",
       "Maximum:        4.000000\n"
      ]
     },
     "execution_count": 9,
     "metadata": {},
     "output_type": "execute_result"
    }
   ],
   "source": [
    "summarystats(datos)"
   ]
  },
  {
   "cell_type": "markdown",
   "metadata": {},
   "source": [
    "Vamos a obtener:\n",
    "la media μ, la función que nos la da por separado es: mean(datos)\n",
    "la desviación típica σ, su función es: std(datos)\n",
    "la varianza σ², su función es: var(datos)\n",
    "la moda, su función es: mode(datos)"
   ]
  },
  {
   "cell_type": "code",
   "execution_count": 16,
   "metadata": {},
   "outputs": [
    {
     "data": {
      "text/plain": [
       "2.049"
      ]
     },
     "execution_count": 16,
     "metadata": {},
     "output_type": "execute_result"
    }
   ],
   "source": [
    "mean(datos) #la media μ"
   ]
  },
  {
   "cell_type": "code",
   "execution_count": 17,
   "metadata": {},
   "outputs": [
    {
     "data": {
      "text/plain": [
       "1.3987693003335315"
      ]
     },
     "execution_count": 17,
     "metadata": {},
     "output_type": "execute_result"
    }
   ],
   "source": [
    "StatsBase.std(datos)#la desviación típica σ"
   ]
  },
  {
   "cell_type": "code",
   "execution_count": 18,
   "metadata": {},
   "outputs": [
    {
     "data": {
      "text/plain": [
       "1.9565555555555572"
      ]
     },
     "execution_count": 18,
     "metadata": {},
     "output_type": "execute_result"
    }
   ],
   "source": [
    "StatsBase.var(datos)#la varianza σ²"
   ]
  },
  {
   "cell_type": "code",
   "execution_count": 19,
   "metadata": {},
   "outputs": [
    {
     "data": {
      "text/plain": [
       "2"
      ]
     },
     "execution_count": 19,
     "metadata": {},
     "output_type": "execute_result"
    }
   ],
   "source": [
    "mode(datos)#la moda"
   ]
  },
  {
   "cell_type": "markdown",
   "metadata": {},
   "source": [
    "Veamos ahora como podemos visualizar esta información, primero vamos ha obtener la frecuencia de cada dato, para ello ejecutamos el siguiente código."
   ]
  },
  {
   "cell_type": "code",
   "execution_count": 20,
   "metadata": {},
   "outputs": [
    {
     "data": {
      "text/html": [
       "<div class=\"data-frame\"><p>5 rows × 2 columns</p><table class=\"data-frame\"><thead><tr><th></th><th>nhermanos</th><th>frecuencia</th></tr><tr><th></th><th title=\"Int64\">Int64</th><th title=\"Int64\">Int64</th></tr></thead><tbody><tr><th>1</th><td>0</td><td>183</td></tr><tr><th>2</th><td>1</td><td>199</td></tr><tr><th>3</th><td>2</td><td>210</td></tr><tr><th>4</th><td>3</td><td>202</td></tr><tr><th>5</th><td>4</td><td>206</td></tr></tbody></table></div>"
      ],
      "text/latex": [
       "\\begin{tabular}{r|cc}\n",
       "\t& nhermanos & frecuencia\\\\\n",
       "\t\\hline\n",
       "\t& Int64 & Int64\\\\\n",
       "\t\\hline\n",
       "\t1 & 0 & 183 \\\\\n",
       "\t2 & 1 & 199 \\\\\n",
       "\t3 & 2 & 210 \\\\\n",
       "\t4 & 3 & 202 \\\\\n",
       "\t5 & 4 & 206 \\\\\n",
       "\\end{tabular}\n"
      ],
      "text/plain": [
       "\u001b[1m5×2 DataFrame\u001b[0m\n",
       "\u001b[1m Row \u001b[0m│\u001b[1m nhermanos \u001b[0m\u001b[1m frecuencia \u001b[0m\n",
       "\u001b[1m     \u001b[0m│\u001b[90m Int64     \u001b[0m\u001b[90m Int64      \u001b[0m\n",
       "─────┼───────────────────────\n",
       "   1 │         0         183\n",
       "   2 │         1         199\n",
       "   3 │         2         210\n",
       "   4 │         3         202\n",
       "   5 │         4         206"
      ]
     },
     "execution_count": 20,
     "metadata": {},
     "output_type": "execute_result"
    }
   ],
   "source": [
    "datosf=sort(countmap(datos))\n",
    "dfdatos=DataFrame(nhermanos=collect(keys(datosf)),frecuencia=collect(values(datosf)))"
   ]
  },
  {
   "cell_type": "markdown",
   "metadata": {},
   "source": [
    "Ahora ya podemos generar el gráfico de barras de frecuencias."
   ]
  },
  {
   "cell_type": "code",
   "execution_count": 26,
   "metadata": {},
   "outputs": [
    {
     "data": {
      "image/svg+xml": [
       "<?xml version=\"1.0\" encoding=\"utf-8\"?>\n",
       "<svg xmlns=\"http://www.w3.org/2000/svg\" xmlns:xlink=\"http://www.w3.org/1999/xlink\" width=\"600\" height=\"400\" viewBox=\"0 0 2400 1600\">\n",
       "<defs>\n",
       "  <clipPath id=\"clip4600\">\n",
       "    <rect x=\"0\" y=\"0\" width=\"2400\" height=\"1600\"/>\n",
       "  </clipPath>\n",
       "</defs>\n",
       "<path clip-path=\"url(#clip4600)\" d=\"\n",
       "M0 1600 L2400 1600 L2400 0 L0 0  Z\n",
       "  \" fill=\"#ffffff\" fill-rule=\"evenodd\" fill-opacity=\"1\"/>\n",
       "<defs>\n",
       "  <clipPath id=\"clip4601\">\n",
       "    <rect x=\"480\" y=\"0\" width=\"1681\" height=\"1600\"/>\n",
       "  </clipPath>\n",
       "</defs>\n",
       "<path clip-path=\"url(#clip4600)\" d=\"\n",
       "M167.279 1487.47 L2352.76 1487.47 L2352.76 47.2441 L167.279 47.2441  Z\n",
       "  \" fill=\"#ffffff\" fill-rule=\"evenodd\" fill-opacity=\"1\"/>\n",
       "<defs>\n",
       "  <clipPath id=\"clip4602\">\n",
       "    <rect x=\"167\" y=\"47\" width=\"2186\" height=\"1441\"/>\n",
       "  </clipPath>\n",
       "</defs>\n",
       "<polyline clip-path=\"url(#clip4602)\" style=\"stroke:#000000; stroke-width:2; stroke-opacity:0.1; fill:none\" points=\"\n",
       "  449.573,1487.47 449.573,47.2441 \n",
       "  \"/>\n",
       "<polyline clip-path=\"url(#clip4602)\" style=\"stroke:#000000; stroke-width:2; stroke-opacity:0.1; fill:none\" points=\"\n",
       "  854.795,1487.47 854.795,47.2441 \n",
       "  \"/>\n",
       "<polyline clip-path=\"url(#clip4602)\" style=\"stroke:#000000; stroke-width:2; stroke-opacity:0.1; fill:none\" points=\"\n",
       "  1260.02,1487.47 1260.02,47.2441 \n",
       "  \"/>\n",
       "<polyline clip-path=\"url(#clip4602)\" style=\"stroke:#000000; stroke-width:2; stroke-opacity:0.1; fill:none\" points=\"\n",
       "  1665.24,1487.47 1665.24,47.2441 \n",
       "  \"/>\n",
       "<polyline clip-path=\"url(#clip4602)\" style=\"stroke:#000000; stroke-width:2; stroke-opacity:0.1; fill:none\" points=\"\n",
       "  2070.46,1487.47 2070.46,47.2441 \n",
       "  \"/>\n",
       "<polyline clip-path=\"url(#clip4602)\" style=\"stroke:#000000; stroke-width:2; stroke-opacity:0.1; fill:none\" points=\"\n",
       "  167.279,1446.71 2352.76,1446.71 \n",
       "  \"/>\n",
       "<polyline clip-path=\"url(#clip4602)\" style=\"stroke:#000000; stroke-width:2; stroke-opacity:0.1; fill:none\" points=\"\n",
       "  167.279,1123.21 2352.76,1123.21 \n",
       "  \"/>\n",
       "<polyline clip-path=\"url(#clip4602)\" style=\"stroke:#000000; stroke-width:2; stroke-opacity:0.1; fill:none\" points=\"\n",
       "  167.279,799.71 2352.76,799.71 \n",
       "  \"/>\n",
       "<polyline clip-path=\"url(#clip4602)\" style=\"stroke:#000000; stroke-width:2; stroke-opacity:0.1; fill:none\" points=\"\n",
       "  167.279,476.208 2352.76,476.208 \n",
       "  \"/>\n",
       "<polyline clip-path=\"url(#clip4602)\" style=\"stroke:#000000; stroke-width:2; stroke-opacity:0.1; fill:none\" points=\"\n",
       "  167.279,152.706 2352.76,152.706 \n",
       "  \"/>\n",
       "<polyline clip-path=\"url(#clip4600)\" style=\"stroke:#000000; stroke-width:4; stroke-opacity:1; fill:none\" points=\"\n",
       "  167.279,1487.47 2352.76,1487.47 \n",
       "  \"/>\n",
       "<polyline clip-path=\"url(#clip4600)\" style=\"stroke:#000000; stroke-width:4; stroke-opacity:1; fill:none\" points=\"\n",
       "  167.279,1487.47 167.279,47.2441 \n",
       "  \"/>\n",
       "<polyline clip-path=\"url(#clip4600)\" style=\"stroke:#000000; stroke-width:4; stroke-opacity:1; fill:none\" points=\"\n",
       "  449.573,1487.47 449.573,1470.19 \n",
       "  \"/>\n",
       "<polyline clip-path=\"url(#clip4600)\" style=\"stroke:#000000; stroke-width:4; stroke-opacity:1; fill:none\" points=\"\n",
       "  854.795,1487.47 854.795,1470.19 \n",
       "  \"/>\n",
       "<polyline clip-path=\"url(#clip4600)\" style=\"stroke:#000000; stroke-width:4; stroke-opacity:1; fill:none\" points=\"\n",
       "  1260.02,1487.47 1260.02,1470.19 \n",
       "  \"/>\n",
       "<polyline clip-path=\"url(#clip4600)\" style=\"stroke:#000000; stroke-width:4; stroke-opacity:1; fill:none\" points=\"\n",
       "  1665.24,1487.47 1665.24,1470.19 \n",
       "  \"/>\n",
       "<polyline clip-path=\"url(#clip4600)\" style=\"stroke:#000000; stroke-width:4; stroke-opacity:1; fill:none\" points=\"\n",
       "  2070.46,1487.47 2070.46,1470.19 \n",
       "  \"/>\n",
       "<polyline clip-path=\"url(#clip4600)\" style=\"stroke:#000000; stroke-width:4; stroke-opacity:1; fill:none\" points=\"\n",
       "  167.279,1446.71 193.505,1446.71 \n",
       "  \"/>\n",
       "<polyline clip-path=\"url(#clip4600)\" style=\"stroke:#000000; stroke-width:4; stroke-opacity:1; fill:none\" points=\"\n",
       "  167.279,1123.21 193.505,1123.21 \n",
       "  \"/>\n",
       "<polyline clip-path=\"url(#clip4600)\" style=\"stroke:#000000; stroke-width:4; stroke-opacity:1; fill:none\" points=\"\n",
       "  167.279,799.71 193.505,799.71 \n",
       "  \"/>\n",
       "<polyline clip-path=\"url(#clip4600)\" style=\"stroke:#000000; stroke-width:4; stroke-opacity:1; fill:none\" points=\"\n",
       "  167.279,476.208 193.505,476.208 \n",
       "  \"/>\n",
       "<polyline clip-path=\"url(#clip4600)\" style=\"stroke:#000000; stroke-width:4; stroke-opacity:1; fill:none\" points=\"\n",
       "  167.279,152.706 193.505,152.706 \n",
       "  \"/>\n",
       "<g clip-path=\"url(#clip4600)\">\n",
       "<text style=\"fill:#000000; fill-opacity:1; font-family:Arial,Helvetica Neue,Helvetica,sans-serif; font-size:48px; text-anchor:middle;\" transform=\"rotate(0, 449.573, 1541.47)\" x=\"449.573\" y=\"1541.47\">0</text>\n",
       "</g>\n",
       "<g clip-path=\"url(#clip4600)\">\n",
       "<text style=\"fill:#000000; fill-opacity:1; font-family:Arial,Helvetica Neue,Helvetica,sans-serif; font-size:48px; text-anchor:middle;\" transform=\"rotate(0, 854.795, 1541.47)\" x=\"854.795\" y=\"1541.47\">1</text>\n",
       "</g>\n",
       "<g clip-path=\"url(#clip4600)\">\n",
       "<text style=\"fill:#000000; fill-opacity:1; font-family:Arial,Helvetica Neue,Helvetica,sans-serif; font-size:48px; text-anchor:middle;\" transform=\"rotate(0, 1260.02, 1541.47)\" x=\"1260.02\" y=\"1541.47\">2</text>\n",
       "</g>\n",
       "<g clip-path=\"url(#clip4600)\">\n",
       "<text style=\"fill:#000000; fill-opacity:1; font-family:Arial,Helvetica Neue,Helvetica,sans-serif; font-size:48px; text-anchor:middle;\" transform=\"rotate(0, 1665.24, 1541.47)\" x=\"1665.24\" y=\"1541.47\">3</text>\n",
       "</g>\n",
       "<g clip-path=\"url(#clip4600)\">\n",
       "<text style=\"fill:#000000; fill-opacity:1; font-family:Arial,Helvetica Neue,Helvetica,sans-serif; font-size:48px; text-anchor:middle;\" transform=\"rotate(0, 2070.46, 1541.47)\" x=\"2070.46\" y=\"1541.47\">4</text>\n",
       "</g>\n",
       "<g clip-path=\"url(#clip4600)\">\n",
       "<text style=\"fill:#000000; fill-opacity:1; font-family:Arial,Helvetica Neue,Helvetica,sans-serif; font-size:48px; text-anchor:end;\" transform=\"rotate(0, 143.279, 1464.21)\" x=\"143.279\" y=\"1464.21\">0</text>\n",
       "</g>\n",
       "<g clip-path=\"url(#clip4600)\">\n",
       "<text style=\"fill:#000000; fill-opacity:1; font-family:Arial,Helvetica Neue,Helvetica,sans-serif; font-size:48px; text-anchor:end;\" transform=\"rotate(0, 143.279, 1140.71)\" x=\"143.279\" y=\"1140.71\">50</text>\n",
       "</g>\n",
       "<g clip-path=\"url(#clip4600)\">\n",
       "<text style=\"fill:#000000; fill-opacity:1; font-family:Arial,Helvetica Neue,Helvetica,sans-serif; font-size:48px; text-anchor:end;\" transform=\"rotate(0, 143.279, 817.21)\" x=\"143.279\" y=\"817.21\">100</text>\n",
       "</g>\n",
       "<g clip-path=\"url(#clip4600)\">\n",
       "<text style=\"fill:#000000; fill-opacity:1; font-family:Arial,Helvetica Neue,Helvetica,sans-serif; font-size:48px; text-anchor:end;\" transform=\"rotate(0, 143.279, 493.708)\" x=\"143.279\" y=\"493.708\">150</text>\n",
       "</g>\n",
       "<g clip-path=\"url(#clip4600)\">\n",
       "<text style=\"fill:#000000; fill-opacity:1; font-family:Arial,Helvetica Neue,Helvetica,sans-serif; font-size:48px; text-anchor:end;\" transform=\"rotate(0, 143.279, 170.206)\" x=\"143.279\" y=\"170.206\">200</text>\n",
       "</g>\n",
       "<path clip-path=\"url(#clip4602)\" d=\"\n",
       "M287.484 262.696 L287.484 1446.71 L611.662 1446.71 L611.662 262.696 L287.484 262.696 L287.484 262.696  Z\n",
       "  \" fill=\"#009af9\" fill-rule=\"evenodd\" fill-opacity=\"1\"/>\n",
       "<polyline clip-path=\"url(#clip4602)\" style=\"stroke:#000000; stroke-width:4; stroke-opacity:1; fill:none\" points=\"\n",
       "  287.484,262.696 287.484,1446.71 611.662,1446.71 611.662,262.696 287.484,262.696 \n",
       "  \"/>\n",
       "<path clip-path=\"url(#clip4602)\" d=\"\n",
       "M692.706 159.176 L692.706 1446.71 L1016.88 1446.71 L1016.88 159.176 L692.706 159.176 L692.706 159.176  Z\n",
       "  \" fill=\"#009af9\" fill-rule=\"evenodd\" fill-opacity=\"1\"/>\n",
       "<polyline clip-path=\"url(#clip4602)\" style=\"stroke:#000000; stroke-width:4; stroke-opacity:1; fill:none\" points=\"\n",
       "  692.706,159.176 692.706,1446.71 1016.88,1446.71 1016.88,159.176 692.706,159.176 \n",
       "  \"/>\n",
       "<path clip-path=\"url(#clip4602)\" d=\"\n",
       "M1097.93 88.0053 L1097.93 1446.71 L1422.11 1446.71 L1422.11 88.0053 L1097.93 88.0053 L1097.93 88.0053  Z\n",
       "  \" fill=\"#009af9\" fill-rule=\"evenodd\" fill-opacity=\"1\"/>\n",
       "<polyline clip-path=\"url(#clip4602)\" style=\"stroke:#000000; stroke-width:4; stroke-opacity:1; fill:none\" points=\"\n",
       "  1097.93,88.0053 1097.93,1446.71 1422.11,1446.71 1422.11,88.0053 1097.93,88.0053 \n",
       "  \"/>\n",
       "<path clip-path=\"url(#clip4602)\" d=\"\n",
       "M1503.15 139.766 L1503.15 1446.71 L1827.33 1446.71 L1827.33 139.766 L1503.15 139.766 L1503.15 139.766  Z\n",
       "  \" fill=\"#009af9\" fill-rule=\"evenodd\" fill-opacity=\"1\"/>\n",
       "<polyline clip-path=\"url(#clip4602)\" style=\"stroke:#000000; stroke-width:4; stroke-opacity:1; fill:none\" points=\"\n",
       "  1503.15,139.766 1503.15,1446.71 1827.33,1446.71 1827.33,139.766 1503.15,139.766 \n",
       "  \"/>\n",
       "<path clip-path=\"url(#clip4602)\" d=\"\n",
       "M1908.37 113.885 L1908.37 1446.71 L2232.55 1446.71 L2232.55 113.885 L1908.37 113.885 L1908.37 113.885  Z\n",
       "  \" fill=\"#009af9\" fill-rule=\"evenodd\" fill-opacity=\"1\"/>\n",
       "<polyline clip-path=\"url(#clip4602)\" style=\"stroke:#000000; stroke-width:4; stroke-opacity:1; fill:none\" points=\"\n",
       "  1908.37,113.885 1908.37,1446.71 2232.55,1446.71 2232.55,113.885 1908.37,113.885 \n",
       "  \"/>\n",
       "<path clip-path=\"url(#clip4600)\" d=\"\n",
       "M1989.93 251.724 L2280.76 251.724 L2280.76 130.764 L1989.93 130.764  Z\n",
       "  \" fill=\"#ffffff\" fill-rule=\"evenodd\" fill-opacity=\"1\"/>\n",
       "<polyline clip-path=\"url(#clip4600)\" style=\"stroke:#000000; stroke-width:4; stroke-opacity:1; fill:none\" points=\"\n",
       "  1989.93,251.724 2280.76,251.724 2280.76,130.764 1989.93,130.764 1989.93,251.724 \n",
       "  \"/>\n",
       "<path clip-path=\"url(#clip4600)\" d=\"\n",
       "M2013.93 215.436 L2157.93 215.436 L2157.93 167.052 L2013.93 167.052 L2013.93 215.436  Z\n",
       "  \" fill=\"#009af9\" fill-rule=\"evenodd\" fill-opacity=\"1\"/>\n",
       "<polyline clip-path=\"url(#clip4600)\" style=\"stroke:#000000; stroke-width:4; stroke-opacity:1; fill:none\" points=\"\n",
       "  2013.93,215.436 2157.93,215.436 2157.93,167.052 2013.93,167.052 2013.93,215.436 \n",
       "  \"/>\n",
       "<g clip-path=\"url(#clip4600)\">\n",
       "<text style=\"fill:#000000; fill-opacity:1; font-family:Arial,Helvetica Neue,Helvetica,sans-serif; font-size:48px; text-anchor:start;\" transform=\"rotate(0, 2181.93, 208.744)\" x=\"2181.93\" y=\"208.744\">y1</text>\n",
       "</g>\n",
       "</svg>\n"
      ]
     },
     "execution_count": 26,
     "metadata": {},
     "output_type": "execute_result"
    }
   ],
   "source": [
    "@df dfdatos bar(:nhermanos,:frecuencia)"
   ]
  },
  {
   "cell_type": "markdown",
   "metadata": {},
   "source": [
    "Y el gráfico de tarta "
   ]
  },
  {
   "cell_type": "code",
   "execution_count": 27,
   "metadata": {},
   "outputs": [
    {
     "data": {
      "image/svg+xml": [
       "<?xml version=\"1.0\" encoding=\"utf-8\"?>\n",
       "<svg xmlns=\"http://www.w3.org/2000/svg\" xmlns:xlink=\"http://www.w3.org/1999/xlink\" width=\"600\" height=\"400\" viewBox=\"0 0 2400 1600\">\n",
       "<defs>\n",
       "  <clipPath id=\"clip4900\">\n",
       "    <rect x=\"0\" y=\"0\" width=\"2400\" height=\"1600\"/>\n",
       "  </clipPath>\n",
       "</defs>\n",
       "<path clip-path=\"url(#clip4900)\" d=\"\n",
       "M0 1600 L2400 1600 L2400 0 L0 0  Z\n",
       "  \" fill=\"#ffffff\" fill-rule=\"evenodd\" fill-opacity=\"1\"/>\n",
       "<defs>\n",
       "  <clipPath id=\"clip4901\">\n",
       "    <rect x=\"480\" y=\"0\" width=\"1681\" height=\"1600\"/>\n",
       "  </clipPath>\n",
       "</defs>\n",
       "<path clip-path=\"url(#clip4900)\" d=\"\n",
       "M47.2441 1552.76 L2352.76 1552.76 L2352.76 47.2441 L47.2441 47.2441  Z\n",
       "  \" fill=\"#ffffff\" fill-rule=\"evenodd\" fill-opacity=\"1\"/>\n",
       "<defs>\n",
       "  <clipPath id=\"clip4902\">\n",
       "    <rect x=\"47\" y=\"47\" width=\"2307\" height=\"1507\"/>\n",
       "  </clipPath>\n",
       "</defs>\n",
       "<path clip-path=\"url(#clip4900)\" d=\"\n",
       "M1200 915.276 L1837.48 915.276 L1837.38 904.15 L1837.09 893.028 L1836.61 881.912 L1835.93 870.807 L1835.05 859.716 L1833.99 848.641 L1832.73 837.586 L1831.28 826.555 \n",
       "  L1829.63 815.552 L1827.8 804.578 L1825.77 793.639 L1823.55 782.736 L1821.14 771.874 L1818.54 761.055 L1815.76 750.284 L1812.79 739.562 L1809.63 728.894 L1806.28 718.283 \n",
       "  L1802.75 707.732 L1799.04 697.244 L1795.14 686.823 L1791.06 676.471 L1786.8 666.192 L1782.37 655.989 L1777.75 645.865 L1772.96 635.823 L1768 625.866 L1762.86 615.997 \n",
       "  L1757.55 606.219 L1752.07 596.535 L1746.43 586.949 L1740.61 577.462 L1734.64 568.079 L1728.5 558.801 L1722.19 549.632 L1715.73 540.574 L1709.11 531.63 L1702.34 522.804 \n",
       "  L1695.42 514.096 L1688.34 505.511 L1681.11 497.051 L1673.74 488.718 L1666.22 480.515 L1658.56 472.445 L1650.77 464.509 L1642.83 456.711 L1634.76 449.052 L1626.56 441.535 \n",
       "  L1618.22 434.163 L1609.76 426.937 L1601.18 419.86 L1592.47 412.934 L1583.65 406.161 L1574.7 399.543 L1565.64 393.082 L1556.47 386.78 L1547.2 380.64 L1537.81 374.662 \n",
       "  L1528.33 368.848 L1518.74 363.201 L1509.06 357.723 L1499.28 352.414 L1489.41 347.276 L1479.45 342.312 L1469.41 337.522 L1459.29 332.908  Z\n",
       "  \" fill=\"#ffb200\" fill-rule=\"evenodd\" fill-opacity=\"1\"/>\n",
       "<g clip-path=\"url(#clip4900)\">\n",
       "<text style=\"fill:#000000; fill-opacity:1; font-family:Arial,Helvetica Neue,Helvetica,sans-serif; font-size:48px; text-anchor:start;\" transform=\"rotate(0, 1932.1, 550.859)\" x=\"1932.1\" y=\"550.859\">0.0</text>\n",
       "</g>\n",
       "<polyline clip-path=\"url(#clip4900)\" style=\"stroke:#000000; stroke-width:3.2; stroke-opacity:1; fill:none\" points=\"\n",
       "  1734.64,568.079 1788.1,533.359 1908.1,533.359 \n",
       "  \"/>\n",
       "<path clip-path=\"url(#clip4900)\" d=\"\n",
       "M1200 915.276 L1459.29 332.908 L1449.08 328.472 L1438.8 324.214 L1428.45 320.136 L1418.03 316.24 L1407.54 312.526 L1396.99 308.996 L1386.38 305.65 L1375.71 302.49 \n",
       "  L1364.99 299.517 L1354.22 296.731 L1343.4 294.134 L1332.54 291.726 L1321.64 289.508 L1310.7 287.48 L1299.72 285.644 L1288.72 283.999 L1277.69 282.547 L1266.63 281.287 \n",
       "  L1255.56 280.221 L1244.47 279.348 L1233.36 278.669 L1222.25 278.184 L1211.13 277.892 L1200 277.795 L1188.87 277.892 L1177.75 278.184 L1166.64 278.669 L1155.53 279.348 \n",
       "  L1144.44 280.221 L1133.37 281.287 L1122.31 282.547 L1111.28 283.999 L1100.28 285.644 L1089.3 287.48 L1078.36 289.508 L1067.46 291.726 L1056.6 294.134 L1045.78 296.731 \n",
       "  L1035.01 299.517 L1024.29 302.49 L1013.62 305.65 L1003.01 308.996 L992.457 312.526 L981.969 316.24 L971.547 320.136 L961.196 324.214 L950.917 328.472 L940.713 332.908 \n",
       "  L930.589 337.522 L920.547 342.312 L910.59 347.276 L900.721 352.414 L890.943 357.723 L881.26 363.201 L871.673 368.848 L862.187 374.662 L852.803 380.64 L843.526 386.78 \n",
       "  L834.356 393.082 L825.298 399.543 L816.355 406.161 L807.528 412.934 L798.821 419.86 L790.236 426.937 L781.775 434.163 L773.442 441.535 L765.239 449.052 L757.169 456.711 \n",
       "  L749.233 464.509 L741.435 472.445 L733.776 480.515 L726.26 488.718  Z\n",
       "  \" fill=\"#7f3e74\" fill-rule=\"evenodd\" fill-opacity=\"1\"/>\n",
       "<g clip-path=\"url(#clip4900)\">\n",
       "<text style=\"fill:#000000; fill-opacity:1; font-family:Arial,Helvetica Neue,Helvetica,sans-serif; font-size:48px; text-anchor:end;\" transform=\"rotate(0, 910.206, 246.871)\" x=\"910.206\" y=\"246.871\">1.0</text>\n",
       "</g>\n",
       "<polyline clip-path=\"url(#clip4900)\" style=\"stroke:#000000; stroke-width:3.2; stroke-opacity:1; fill:none\" points=\"\n",
       "  1067.46,291.726 1054.21,229.371 934.206,229.371 \n",
       "  \"/>\n",
       "<path clip-path=\"url(#clip4900)\" d=\"\n",
       "M1200 915.276 L726.26 488.718 L718.887 497.051 L711.662 505.511 L704.585 514.096 L697.659 522.804 L690.886 531.63 L684.268 540.574 L677.807 549.632 L671.505 558.801 \n",
       "  L665.364 568.079 L659.386 577.462 L653.573 586.949 L647.926 596.535 L642.447 606.219 L637.138 615.997 L632.001 625.866 L627.036 635.823 L622.247 645.865 L617.633 655.989 \n",
       "  L613.196 666.192 L608.939 676.471 L604.861 686.823 L600.964 697.244 L597.251 707.732 L593.72 718.283 L590.375 728.894 L587.215 739.562 L584.241 750.284 L581.456 761.055 \n",
       "  L578.858 771.874 L576.45 782.736 L574.232 793.639 L572.204 804.578 L570.368 815.552 L568.724 826.555 L567.271 837.586 L566.012 848.641 L564.945 859.716 L564.073 870.807 \n",
       "  L563.393 881.912 L562.908 893.028 L562.617 904.15 L562.52 915.276 L562.617 926.401 L562.908 937.523 L563.393 948.639 L564.073 959.744 L564.945 970.836 L566.012 981.91 \n",
       "  L567.271 992.965 L568.724 1004 L570.368 1015 L572.204 1025.97 L574.232 1036.91 L576.45 1047.82 L578.858 1058.68 L581.456 1069.5 L584.241 1080.27 L587.215 1090.99 \n",
       "  L590.375 1101.66 L593.72 1112.27 L597.251 1122.82 L600.964 1133.31 L604.861 1143.73 L608.939 1154.08 L613.196 1164.36 L617.633 1174.56 L622.247 1184.69 L627.036 1194.73 \n",
       "  L632.001 1204.69 L637.138 1214.55 L642.447 1224.33 L647.926 1234.02 L653.573 1243.6 L659.386 1253.09 L665.364 1262.47 L671.505 1271.75  Z\n",
       "  \" fill=\"#ff6700\" fill-rule=\"evenodd\" fill-opacity=\"1\"/>\n",
       "<g clip-path=\"url(#clip4900)\">\n",
       "<text style=\"fill:#000000; fill-opacity:1; font-family:Arial,Helvetica Neue,Helvetica,sans-serif; font-size:48px; text-anchor:end;\" transform=\"rotate(0, 356.48, 883.86)\" x=\"356.48\" y=\"883.86\">2.0</text>\n",
       "</g>\n",
       "<polyline clip-path=\"url(#clip4900)\" style=\"stroke:#000000; stroke-width:3.2; stroke-opacity:1; fill:none\" points=\"\n",
       "  564.073,870.807 500.48,866.36 380.48,866.36 \n",
       "  \"/>\n",
       "<path clip-path=\"url(#clip4900)\" d=\"\n",
       "M1200 915.276 L671.505 1271.75 L677.807 1280.92 L684.268 1289.98 L690.886 1298.92 L697.659 1307.75 L704.585 1316.45 L711.662 1325.04 L718.887 1333.5 L726.26 1341.83 \n",
       "  L733.776 1350.04 L741.435 1358.11 L749.233 1366.04 L757.169 1373.84 L765.239 1381.5 L773.442 1389.02 L781.775 1396.39 L790.236 1403.61 L798.821 1410.69 L807.528 1417.62 \n",
       "  L816.355 1424.39 L825.298 1431.01 L834.356 1437.47 L843.526 1443.77 L852.803 1449.91 L862.187 1455.89 L871.673 1461.7 L881.26 1467.35 L890.943 1472.83 L900.721 1478.14 \n",
       "  L910.59 1483.27 L920.547 1488.24 L930.589 1493.03 L940.713 1497.64 L950.917 1502.08 L961.196 1506.34 L971.547 1510.41 L981.969 1514.31 L992.457 1518.03 L1003.01 1521.56 \n",
       "  L1013.62 1524.9 L1024.29 1528.06 L1035.01 1531.03 L1045.78 1533.82 L1056.6 1536.42 L1067.46 1538.83 L1078.36 1541.04 L1089.3 1543.07 L1100.28 1544.91 L1111.28 1546.55 \n",
       "  L1122.31 1548 L1133.37 1549.26 L1144.44 1550.33 L1155.53 1551.2 L1166.64 1551.88 L1177.75 1552.37 L1188.87 1552.66 L1200 1552.76 L1211.13 1552.66 L1222.25 1552.37 \n",
       "  L1233.36 1551.88 L1244.47 1551.2 L1255.56 1550.33 L1266.63 1549.26 L1277.69 1548 L1288.72 1546.55 L1299.72 1544.91 L1310.7 1543.07 L1321.64 1541.04 L1332.54 1538.83 \n",
       "  L1343.4 1536.42 L1354.22 1533.82 L1364.99 1531.03 L1375.71 1528.06 L1386.38 1524.9  Z\n",
       "  \" fill=\"#59a3c0\" fill-rule=\"evenodd\" fill-opacity=\"1\"/>\n",
       "<g clip-path=\"url(#clip4900)\">\n",
       "<text style=\"fill:#000000; fill-opacity:1; font-family:Arial,Helvetica Neue,Helvetica,sans-serif; font-size:48px; text-anchor:end;\" transform=\"rotate(0, 821.925, 1593.78)\" x=\"821.925\" y=\"1593.78\">3.0</text>\n",
       "</g>\n",
       "<polyline clip-path=\"url(#clip4900)\" style=\"stroke:#000000; stroke-width:3.2; stroke-opacity:1; fill:none\" points=\"\n",
       "  987.205,1516.19 965.925,1576.28 845.925,1576.28 \n",
       "  \"/>\n",
       "<path clip-path=\"url(#clip4900)\" d=\"\n",
       "M1200 915.276 L1386.38 1524.9 L1396.99 1521.56 L1407.54 1518.03 L1418.03 1514.31 L1428.45 1510.41 L1438.8 1506.34 L1449.08 1502.08 L1459.29 1497.64 L1469.41 1493.03 \n",
       "  L1479.45 1488.24 L1489.41 1483.27 L1499.28 1478.14 L1509.06 1472.83 L1518.74 1467.35 L1528.33 1461.7 L1537.81 1455.89 L1547.2 1449.91 L1556.47 1443.77 L1565.64 1437.47 \n",
       "  L1574.7 1431.01 L1583.65 1424.39 L1592.47 1417.62 L1601.18 1410.69 L1609.76 1403.61 L1618.22 1396.39 L1626.56 1389.02 L1634.76 1381.5 L1642.83 1373.84 L1650.77 1366.04 \n",
       "  L1658.56 1358.11 L1666.22 1350.04 L1673.74 1341.83 L1681.11 1333.5 L1688.34 1325.04 L1695.42 1316.45 L1702.34 1307.75 L1709.11 1298.92 L1715.73 1289.98 L1722.19 1280.92 \n",
       "  L1728.5 1271.75 L1734.64 1262.47 L1740.61 1253.09 L1746.43 1243.6 L1752.07 1234.02 L1757.55 1224.33 L1762.86 1214.55 L1768 1204.69 L1772.96 1194.73 L1777.75 1184.69 \n",
       "  L1782.37 1174.56 L1786.8 1164.36 L1791.06 1154.08 L1795.14 1143.73 L1799.04 1133.31 L1802.75 1122.82 L1806.28 1112.27 L1809.63 1101.66 L1812.79 1090.99 L1815.76 1080.27 \n",
       "  L1818.54 1069.5 L1821.14 1058.68 L1823.55 1047.82 L1825.77 1036.91 L1827.8 1025.97 L1829.63 1015 L1831.28 1004 L1832.73 992.965 L1833.99 981.91 L1835.05 970.836 \n",
       "  L1835.93 959.744 L1836.61 948.639 L1837.09 937.523 L1837.38 926.401 L1837.48 915.276 L1837.38 904.15  Z\n",
       "  \" fill=\"#c0001f\" fill-rule=\"evenodd\" fill-opacity=\"1\"/>\n",
       "<g clip-path=\"url(#clip4900)\">\n",
       "<text style=\"fill:#000000; fill-opacity:1; font-family:Arial,Helvetica Neue,Helvetica,sans-serif; font-size:48px; text-anchor:start;\" transform=\"rotate(0, 1911.31, 1344.95)\" x=\"1911.31\" y=\"1344.95\">4.0</text>\n",
       "</g>\n",
       "<polyline clip-path=\"url(#clip4900)\" style=\"stroke:#000000; stroke-width:3.2; stroke-opacity:1; fill:none\" points=\"\n",
       "  1715.73,1289.98 1767.31,1327.45 1887.31,1327.45 \n",
       "  \"/>\n",
       "</svg>\n"
      ]
     },
     "execution_count": 27,
     "metadata": {},
     "output_type": "execute_result"
    }
   ],
   "source": [
    " @df dfdatos pie(:nhermanos,:frecuencia)"
   ]
  },
  {
   "cell_type": "code",
   "execution_count": null,
   "metadata": {},
   "outputs": [],
   "source": []
  }
 ],
 "metadata": {
  "kernelspec": {
   "display_name": "Julia 1.5.2",
   "language": "julia",
   "name": "julia-1.5"
  },
  "language_info": {
   "file_extension": ".jl",
   "mimetype": "application/julia",
   "name": "julia",
   "version": "1.5.2"
  }
 },
 "nbformat": 4,
 "nbformat_minor": 4
}
