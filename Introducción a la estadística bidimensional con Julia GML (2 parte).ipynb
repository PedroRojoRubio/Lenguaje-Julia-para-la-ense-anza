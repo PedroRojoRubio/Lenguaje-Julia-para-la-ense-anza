{
 "cells": [
  {
   "cell_type": "markdown",
   "metadata": {},
   "source": [
    "Librerías necesarias para ejecutar el notebook"
   ]
  },
  {
   "cell_type": "code",
   "execution_count": 7,
   "metadata": {},
   "outputs": [
    {
     "name": "stderr",
     "output_type": "stream",
     "text": [
      "\u001b[32m\u001b[1m  Resolving\u001b[22m\u001b[39m package versions...\n",
      "\u001b[32m\u001b[1mNo Changes\u001b[22m\u001b[39m to `C:\\Users\\pedro\\.julia\\environments\\v1.5\\Project.toml`\n",
      "\u001b[32m\u001b[1mNo Changes\u001b[22m\u001b[39m to `C:\\Users\\pedro\\.julia\\environments\\v1.5\\Manifest.toml`\n"
     ]
    }
   ],
   "source": [
    "import Pkg; Pkg.add(\"GLM\")"
   ]
  },
  {
   "cell_type": "code",
   "execution_count": 9,
   "metadata": {},
   "outputs": [
    {
     "name": "stderr",
     "output_type": "stream",
     "text": [
      "┌ Info: Precompiling GLM [38e38edf-8417-5370-95a0-9cbb8c7f171a]\n",
      "└ @ Base loading.jl:1278\n"
     ]
    }
   ],
   "source": [
    "using StatsBase;\n",
    "using Statistics;\n",
    "using Plots;\n",
    "using DataFrames;\n",
    "using StatsPlots;\n",
    "using GLM;"
   ]
  },
  {
   "cell_type": "code",
   "execution_count": 3,
   "metadata": {},
   "outputs": [],
   "source": [
    "gr(fmt=:png);"
   ]
  },
  {
   "cell_type": "markdown",
   "metadata": {},
   "source": [
    "Ahora vamos a crear los datos que nos hacen falta, los dos vectores de pesos y altura:"
   ]
  },
  {
   "cell_type": "code",
   "execution_count": 10,
   "metadata": {},
   "outputs": [],
   "source": [
    "Altura=[176,182,167,172,169,191,177,161,173,168];\n",
    "Peso=[68,76,61,65,70,79,69,56,61,64];"
   ]
  },
  {
   "cell_type": "markdown",
   "metadata": {},
   "source": [
    "A continuación vamos a crear un DataFrame con los datos, sobre todo porque visualmente queda más elegante, y es necesario para los cálculos con GML."
   ]
  },
  {
   "cell_type": "code",
   "execution_count": 11,
   "metadata": {},
   "outputs": [
    {
     "data": {
      "text/html": [
       "<div class=\"data-frame\"><p>10 rows × 2 columns</p><table class=\"data-frame\"><thead><tr><th></th><th>Altura</th><th>Peso</th></tr><tr><th></th><th title=\"Int64\">Int64</th><th title=\"Int64\">Int64</th></tr></thead><tbody><tr><th>1</th><td>176</td><td>68</td></tr><tr><th>2</th><td>182</td><td>76</td></tr><tr><th>3</th><td>167</td><td>61</td></tr><tr><th>4</th><td>172</td><td>65</td></tr><tr><th>5</th><td>169</td><td>70</td></tr><tr><th>6</th><td>191</td><td>79</td></tr><tr><th>7</th><td>177</td><td>69</td></tr><tr><th>8</th><td>161</td><td>56</td></tr><tr><th>9</th><td>173</td><td>61</td></tr><tr><th>10</th><td>168</td><td>64</td></tr></tbody></table></div>"
      ],
      "text/latex": [
       "\\begin{tabular}{r|cc}\n",
       "\t& Altura & Peso\\\\\n",
       "\t\\hline\n",
       "\t& Int64 & Int64\\\\\n",
       "\t\\hline\n",
       "\t1 & 176 & 68 \\\\\n",
       "\t2 & 182 & 76 \\\\\n",
       "\t3 & 167 & 61 \\\\\n",
       "\t4 & 172 & 65 \\\\\n",
       "\t5 & 169 & 70 \\\\\n",
       "\t6 & 191 & 79 \\\\\n",
       "\t7 & 177 & 69 \\\\\n",
       "\t8 & 161 & 56 \\\\\n",
       "\t9 & 173 & 61 \\\\\n",
       "\t10 & 168 & 64 \\\\\n",
       "\\end{tabular}\n"
      ],
      "text/plain": [
       "\u001b[1m10×2 DataFrame\u001b[0m\n",
       "\u001b[1m Row \u001b[0m│\u001b[1m Altura \u001b[0m\u001b[1m Peso  \u001b[0m\n",
       "\u001b[1m     \u001b[0m│\u001b[90m Int64  \u001b[0m\u001b[90m Int64 \u001b[0m\n",
       "─────┼───────────────\n",
       "   1 │    176     68\n",
       "   2 │    182     76\n",
       "   3 │    167     61\n",
       "   4 │    172     65\n",
       "   5 │    169     70\n",
       "   6 │    191     79\n",
       "   7 │    177     69\n",
       "   8 │    161     56\n",
       "   9 │    173     61\n",
       "  10 │    168     64"
      ]
     },
     "execution_count": 11,
     "metadata": {},
     "output_type": "execute_result"
    }
   ],
   "source": [
    "tablaAPNLL=DataFrame(Altura=Altura,Peso=Peso)"
   ]
  },
  {
   "cell_type": "markdown",
   "metadata": {},
   "source": [
    "Ahora que ya tenemos los datos en forma de DataFrame podemos calcular las rectas de regresión entre la Altura y el Peso, y entre el Peso y la Altura, pare ello vamos a usar la función fit() del paquete GML, que asigna el modelo de regresión lineal que mejor se adapte a los datos, los datos los pasaremos con la macro “@formula(Y ~X)”, que asigna el modelo entre X como variable independiente y Y como variable dependiente.\n",
    "En nuestro caso tenemos que ejecutar:\n"
   ]
  },
  {
   "cell_type": "code",
   "execution_count": 12,
   "metadata": {},
   "outputs": [],
   "source": [
    "olsAP = lm(@formula(Peso ~ Altura), tablaAPNLL);\n",
    "olsPA = lm(@formula(Altura ~ Peso), tablaAPNLL);"
   ]
  },
  {
   "cell_type": "markdown",
   "metadata": {},
   "source": [
    "Dende el segundo parámetro de la función fit(), es nuestro DataFrame con los datos, y donde antes poníamos X e Y ahora ponemos el nombre de las columnas de nuestro DataFrame que vamos a usar como datos.\n",
    "\n",
    "Con la función coef(), podemos ver los coeficientes que mejor se adaptan a nuestro modelo:\n"
   ]
  },
  {
   "cell_type": "code",
   "execution_count": 13,
   "metadata": {},
   "outputs": [
    {
     "data": {
      "text/plain": [
       "2-element Array{Float64,1}:\n",
       " -62.04164096235121\n",
       "   0.742751388031977"
      ]
     },
     "execution_count": 13,
     "metadata": {},
     "output_type": "execute_result"
    }
   ],
   "source": [
    "coef(olsAP)"
   ]
  },
  {
   "cell_type": "markdown",
   "metadata": {},
   "source": [
    "Ya estamos en condiciones de crear la función que nos permita calcular las rectas de regresión:"
   ]
  },
  {
   "cell_type": "code",
   "execution_count": 14,
   "metadata": {},
   "outputs": [
    {
     "data": {
      "text/plain": [
       "rectaRegresion (generic function with 1 method)"
      ]
     },
     "execution_count": 14,
     "metadata": {},
     "output_type": "execute_result"
    }
   ],
   "source": [
    "function rectaRegresion(x,y0,pendiente)\n",
    "   return pendiente*x+y0\n",
    "end"
   ]
  },
  {
   "cell_type": "markdown",
   "metadata": {},
   "source": [
    "Ahora necesitamos el dominio de cada variable:"
   ]
  },
  {
   "cell_type": "code",
   "execution_count": 15,
   "metadata": {},
   "outputs": [],
   "source": [
    "xGrid=minimum(Altura):maximum(Altura);\n",
    "yGrid=minimum(Peso):maximum(Peso);"
   ]
  },
  {
   "cell_type": "markdown",
   "metadata": {},
   "source": [
    "Y ya tenemos todo lo necesario para calcular las restas de regresión:"
   ]
  },
  {
   "cell_type": "code",
   "execution_count": 16,
   "metadata": {},
   "outputs": [],
   "source": [
    "rectaPA2=[rectaRegresion(x,coef(olsAP)[1],coef(olsAP)[2]) for x in xGrid];\n",
    "rectaAP2=[rectaRegresion(x,coef(olsPA)[1],coef(olsPA)[2]) for x in yGrid];"
   ]
  },
  {
   "cell_type": "markdown",
   "metadata": {},
   "source": [
    "Ya solo no queda mostrar todo junto en el un gráfico:"
   ]
  },
  {
   "cell_type": "code",
   "execution_count": 17,
   "metadata": {},
   "outputs": [
    {
     "data": {
      "image/png": "[encoded data removed]"
     },
     "execution_count": 17,
     "metadata": {},
     "output_type": "execute_result"
    }
   ],
   "source": [
    "scatter(Altura,Peso,title = \"Diagrama de dispersión GLM\",xlabel=\"Altura (cm)\",ylabel=\"Peso (Kg)\",legend = false)\n",
    "plot!(xGrid, rectaPA2,label=\"GLMPA\")\n",
    "plot!(rectaAP2, yGrid,label=\"GLMAP\")"
   ]
  },
  {
   "cell_type": "code",
   "execution_count": null,
   "metadata": {},
   "outputs": [],
   "source": []
  }
 ],
 "metadata": {
  "kernelspec": {
   "display_name": "Julia 1.5.2",
   "language": "julia",
   "name": "julia-1.5"
  },
  "language_info": {
   "file_extension": ".jl",
   "mimetype": "application/julia",
   "name": "julia",
   "version": "1.5.2"
  }
 },
 "nbformat": 4,
 "nbformat_minor": 4
}
