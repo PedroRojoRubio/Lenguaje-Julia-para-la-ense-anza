{
 "cells": [
  {
   "cell_type": "markdown",
   "metadata": {},
   "source": [
    "Librerías necesarias para ejecutar el notebook"
   ]
  },
  {
   "cell_type": "code",
   "execution_count": 1,
   "metadata": {},
   "outputs": [],
   "source": [
    "using Random\n",
    "using Plots\n",
    "using StatsBase"
   ]
  },
  {
   "cell_type": "markdown",
   "metadata": {},
   "source": [
    "La función simulacion(nmuestras,ndatosmuestra,datos)"
   ]
  },
  {
   "cell_type": "code",
   "execution_count": 10,
   "metadata": {},
   "outputs": [
    {
     "data": {
      "text/plain": [
       "simulacion (generic function with 1 method)"
      ]
     },
     "execution_count": 10,
     "metadata": {},
     "output_type": "execute_result"
    }
   ],
   "source": [
    "function simulacion(nmuestras,ndatosmuestra,datos)\n",
    "      muestras=zeros((nmuestras,ndatosmuestra))\n",
    "      for i in 1:nmuestras\n",
    "      muestras[i,1:ndatosmuestra]=StatsBase.knuths_sample!(datos,muestras[i,1:ndatosmuestra])\n",
    "      end\n",
    "      medias=zeros(nmuestras+1)\n",
    "      medias[1]=mean(datos)\n",
    "      for i in 2:nmuestras+1\n",
    "      medias[i]=mean(muestras[i-1,1:ndatosmuestra])\n",
    "      end\n",
    "\n",
    "      apromedia=mean(medias[2:nmuestras+1])\n",
    "      return medias,apromedia\n",
    "end"
   ]
  },
  {
   "cell_type": "markdown",
   "metadata": {},
   "source": [
    "El valor de las muestras.\n",
    "\n",
    "Un curioso experimento. Observa este bonito ejemplo de estadística inferencial: Se desea averiguar la media, μ, de los “n” números de la siguiente población. Pero en vez de hacerlo directamente, se obtendrá por medio de muestras: se toman diferentes muestras aleatorias de los números de la población y su media sirve para estimar μ. "
   ]
  },
  {
   "cell_type": "markdown",
   "metadata": {},
   "source": [
    "Podemos seleccionar el número de datos de la población."
   ]
  },
  {
   "cell_type": "code",
   "execution_count": 2,
   "metadata": {},
   "outputs": [
    {
     "data": {
      "text/plain": [
       "1000"
      ]
     },
     "execution_count": 2,
     "metadata": {},
     "output_type": "execute_result"
    }
   ],
   "source": [
    "ndatos=1000"
   ]
  },
  {
   "cell_type": "markdown",
   "metadata": {},
   "source": [
    "Podemos modificar el número de muestras a sacar de la población y el número de elementos en cada muestra, para ver como podemos intentar estimar la verdadera media de la población."
   ]
  },
  {
   "cell_type": "code",
   "execution_count": 18,
   "metadata": {},
   "outputs": [
    {
     "data": {
      "text/plain": [
       "100"
      ]
     },
     "execution_count": 18,
     "metadata": {},
     "output_type": "execute_result"
    }
   ],
   "source": [
    "nmuestras=10\n",
    "ndatosmuestra=100"
   ]
  },
  {
   "cell_type": "markdown",
   "metadata": {},
   "source": [
    "Generamos los datos de la población a estimar"
   ]
  },
  {
   "cell_type": "code",
   "execution_count": 19,
   "metadata": {},
   "outputs": [
    {
     "data": {
      "text/plain": [
       "1000-element Array{Float64,1}:\n",
       " 739.0\n",
       " 596.0\n",
       " 263.0\n",
       " 798.0\n",
       " 260.0\n",
       " 293.0\n",
       " 669.0\n",
       " 549.0\n",
       " 536.0\n",
       "  54.0\n",
       " 780.0\n",
       " 680.0\n",
       " 809.0\n",
       "   ⋮\n",
       " 893.0\n",
       " 201.0\n",
       " 123.0\n",
       " 584.0\n",
       " 643.0\n",
       " 506.0\n",
       " 214.0\n",
       " 882.0\n",
       " 480.0\n",
       " 583.0\n",
       " 886.0\n",
       " 612.0"
      ]
     },
     "execution_count": 19,
     "metadata": {},
     "output_type": "execute_result"
    }
   ],
   "source": [
    "datos=[ceil(1000*rand()) for i in 1:ndatos]"
   ]
  },
  {
   "cell_type": "markdown",
   "metadata": {},
   "source": [
    "Ya podemos realizar la simulación"
   ]
  },
  {
   "cell_type": "code",
   "execution_count": 23,
   "metadata": {},
   "outputs": [
    {
     "data": {
      "image/svg+xml": [
       "<?xml version=\"1.0\" encoding=\"utf-8\"?>\n",
       "<svg xmlns=\"http://www.w3.org/2000/svg\" xmlns:xlink=\"http://www.w3.org/1999/xlink\" width=\"600\" height=\"400\" viewBox=\"0 0 2400 1600\">\n",
       "<defs>\n",
       "  <clipPath id=\"clip1200\">\n",
       "    <rect x=\"0\" y=\"0\" width=\"2400\" height=\"1600\"/>\n",
       "  </clipPath>\n",
       "</defs>\n",
       "<path clip-path=\"url(#clip1200)\" d=\"\n",
       "M0 1600 L2400 1600 L2400 0 L0 0  Z\n",
       "  \" fill=\"#ffffff\" fill-rule=\"evenodd\" fill-opacity=\"1\"/>\n",
       "<defs>\n",
       "  <clipPath id=\"clip1201\">\n",
       "    <rect x=\"480\" y=\"0\" width=\"1681\" height=\"1600\"/>\n",
       "  </clipPath>\n",
       "</defs>\n",
       "<path clip-path=\"url(#clip1200)\" d=\"\n",
       "M167.279 1487.47 L2352.76 1487.47 L2352.76 121.675 L167.279 121.675  Z\n",
       "  \" fill=\"#ffffff\" fill-rule=\"evenodd\" fill-opacity=\"1\"/>\n",
       "<defs>\n",
       "  <clipPath id=\"clip1202\">\n",
       "    <rect x=\"167\" y=\"121\" width=\"2186\" height=\"1367\"/>\n",
       "  </clipPath>\n",
       "</defs>\n",
       "<polyline clip-path=\"url(#clip1202)\" style=\"stroke:#000000; stroke-width:2; stroke-opacity:0.1; fill:none\" points=\"\n",
       "  179.425,1487.47 179.425,121.675 \n",
       "  \"/>\n",
       "<polyline clip-path=\"url(#clip1202)\" style=\"stroke:#000000; stroke-width:2; stroke-opacity:0.1; fill:none\" points=\"\n",
       "  629.672,1487.47 629.672,121.675 \n",
       "  \"/>\n",
       "<polyline clip-path=\"url(#clip1202)\" style=\"stroke:#000000; stroke-width:2; stroke-opacity:0.1; fill:none\" points=\"\n",
       "  1079.92,1487.47 1079.92,121.675 \n",
       "  \"/>\n",
       "<polyline clip-path=\"url(#clip1202)\" style=\"stroke:#000000; stroke-width:2; stroke-opacity:0.1; fill:none\" points=\"\n",
       "  1530.17,1487.47 1530.17,121.675 \n",
       "  \"/>\n",
       "<polyline clip-path=\"url(#clip1202)\" style=\"stroke:#000000; stroke-width:2; stroke-opacity:0.1; fill:none\" points=\"\n",
       "  1980.41,1487.47 1980.41,121.675 \n",
       "  \"/>\n",
       "<polyline clip-path=\"url(#clip1202)\" style=\"stroke:#000000; stroke-width:2; stroke-opacity:0.1; fill:none\" points=\"\n",
       "  167.279,1448.82 2352.76,1448.82 \n",
       "  \"/>\n",
       "<polyline clip-path=\"url(#clip1202)\" style=\"stroke:#000000; stroke-width:2; stroke-opacity:0.1; fill:none\" points=\"\n",
       "  167.279,1210.78 2352.76,1210.78 \n",
       "  \"/>\n",
       "<polyline clip-path=\"url(#clip1202)\" style=\"stroke:#000000; stroke-width:2; stroke-opacity:0.1; fill:none\" points=\"\n",
       "  167.279,972.748 2352.76,972.748 \n",
       "  \"/>\n",
       "<polyline clip-path=\"url(#clip1202)\" style=\"stroke:#000000; stroke-width:2; stroke-opacity:0.1; fill:none\" points=\"\n",
       "  167.279,734.711 2352.76,734.711 \n",
       "  \"/>\n",
       "<polyline clip-path=\"url(#clip1202)\" style=\"stroke:#000000; stroke-width:2; stroke-opacity:0.1; fill:none\" points=\"\n",
       "  167.279,496.675 2352.76,496.675 \n",
       "  \"/>\n",
       "<polyline clip-path=\"url(#clip1202)\" style=\"stroke:#000000; stroke-width:2; stroke-opacity:0.1; fill:none\" points=\"\n",
       "  167.279,258.639 2352.76,258.639 \n",
       "  \"/>\n",
       "<polyline clip-path=\"url(#clip1200)\" style=\"stroke:#000000; stroke-width:4; stroke-opacity:1; fill:none\" points=\"\n",
       "  167.279,1487.47 2352.76,1487.47 \n",
       "  \"/>\n",
       "<polyline clip-path=\"url(#clip1200)\" style=\"stroke:#000000; stroke-width:4; stroke-opacity:1; fill:none\" points=\"\n",
       "  167.279,1487.47 167.279,121.675 \n",
       "  \"/>\n",
       "<polyline clip-path=\"url(#clip1200)\" style=\"stroke:#000000; stroke-width:4; stroke-opacity:1; fill:none\" points=\"\n",
       "  179.425,1487.47 179.425,1471.09 \n",
       "  \"/>\n",
       "<polyline clip-path=\"url(#clip1200)\" style=\"stroke:#000000; stroke-width:4; stroke-opacity:1; fill:none\" points=\"\n",
       "  629.672,1487.47 629.672,1471.09 \n",
       "  \"/>\n",
       "<polyline clip-path=\"url(#clip1200)\" style=\"stroke:#000000; stroke-width:4; stroke-opacity:1; fill:none\" points=\"\n",
       "  1079.92,1487.47 1079.92,1471.09 \n",
       "  \"/>\n",
       "<polyline clip-path=\"url(#clip1200)\" style=\"stroke:#000000; stroke-width:4; stroke-opacity:1; fill:none\" points=\"\n",
       "  1530.17,1487.47 1530.17,1471.09 \n",
       "  \"/>\n",
       "<polyline clip-path=\"url(#clip1200)\" style=\"stroke:#000000; stroke-width:4; stroke-opacity:1; fill:none\" points=\"\n",
       "  1980.41,1487.47 1980.41,1471.09 \n",
       "  \"/>\n",
       "<polyline clip-path=\"url(#clip1200)\" style=\"stroke:#000000; stroke-width:4; stroke-opacity:1; fill:none\" points=\"\n",
       "  167.279,1448.82 193.505,1448.82 \n",
       "  \"/>\n",
       "<polyline clip-path=\"url(#clip1200)\" style=\"stroke:#000000; stroke-width:4; stroke-opacity:1; fill:none\" points=\"\n",
       "  167.279,1210.78 193.505,1210.78 \n",
       "  \"/>\n",
       "<polyline clip-path=\"url(#clip1200)\" style=\"stroke:#000000; stroke-width:4; stroke-opacity:1; fill:none\" points=\"\n",
       "  167.279,972.748 193.505,972.748 \n",
       "  \"/>\n",
       "<polyline clip-path=\"url(#clip1200)\" style=\"stroke:#000000; stroke-width:4; stroke-opacity:1; fill:none\" points=\"\n",
       "  167.279,734.711 193.505,734.711 \n",
       "  \"/>\n",
       "<polyline clip-path=\"url(#clip1200)\" style=\"stroke:#000000; stroke-width:4; stroke-opacity:1; fill:none\" points=\"\n",
       "  167.279,496.675 193.505,496.675 \n",
       "  \"/>\n",
       "<polyline clip-path=\"url(#clip1200)\" style=\"stroke:#000000; stroke-width:4; stroke-opacity:1; fill:none\" points=\"\n",
       "  167.279,258.639 193.505,258.639 \n",
       "  \"/>\n",
       "<g clip-path=\"url(#clip1200)\">\n",
       "<text style=\"fill:#000000; fill-opacity:1; font-family:Arial,Helvetica Neue,Helvetica,sans-serif; font-size:48px; text-anchor:middle;\" transform=\"rotate(0, 179.425, 1541.47)\" x=\"179.425\" y=\"1541.47\">0.0</text>\n",
       "</g>\n",
       "<g clip-path=\"url(#clip1200)\">\n",
       "<text style=\"fill:#000000; fill-opacity:1; font-family:Arial,Helvetica Neue,Helvetica,sans-serif; font-size:48px; text-anchor:middle;\" transform=\"rotate(0, 629.672, 1541.47)\" x=\"629.672\" y=\"1541.47\">2.5</text>\n",
       "</g>\n",
       "<g clip-path=\"url(#clip1200)\">\n",
       "<text style=\"fill:#000000; fill-opacity:1; font-family:Arial,Helvetica Neue,Helvetica,sans-serif; font-size:48px; text-anchor:middle;\" transform=\"rotate(0, 1079.92, 1541.47)\" x=\"1079.92\" y=\"1541.47\">5.0</text>\n",
       "</g>\n",
       "<g clip-path=\"url(#clip1200)\">\n",
       "<text style=\"fill:#000000; fill-opacity:1; font-family:Arial,Helvetica Neue,Helvetica,sans-serif; font-size:48px; text-anchor:middle;\" transform=\"rotate(0, 1530.17, 1541.47)\" x=\"1530.17\" y=\"1541.47\">7.5</text>\n",
       "</g>\n",
       "<g clip-path=\"url(#clip1200)\">\n",
       "<text style=\"fill:#000000; fill-opacity:1; font-family:Arial,Helvetica Neue,Helvetica,sans-serif; font-size:48px; text-anchor:middle;\" transform=\"rotate(0, 1980.41, 1541.47)\" x=\"1980.41\" y=\"1541.47\">10.0</text>\n",
       "</g>\n",
       "<g clip-path=\"url(#clip1200)\">\n",
       "<text style=\"fill:#000000; fill-opacity:1; font-family:Arial,Helvetica Neue,Helvetica,sans-serif; font-size:48px; text-anchor:end;\" transform=\"rotate(0, 143.279, 1466.32)\" x=\"143.279\" y=\"1466.32\">0</text>\n",
       "</g>\n",
       "<g clip-path=\"url(#clip1200)\">\n",
       "<text style=\"fill:#000000; fill-opacity:1; font-family:Arial,Helvetica Neue,Helvetica,sans-serif; font-size:48px; text-anchor:end;\" transform=\"rotate(0, 143.279, 1228.28)\" x=\"143.279\" y=\"1228.28\">100</text>\n",
       "</g>\n",
       "<g clip-path=\"url(#clip1200)\">\n",
       "<text style=\"fill:#000000; fill-opacity:1; font-family:Arial,Helvetica Neue,Helvetica,sans-serif; font-size:48px; text-anchor:end;\" transform=\"rotate(0, 143.279, 990.248)\" x=\"143.279\" y=\"990.248\">200</text>\n",
       "</g>\n",
       "<g clip-path=\"url(#clip1200)\">\n",
       "<text style=\"fill:#000000; fill-opacity:1; font-family:Arial,Helvetica Neue,Helvetica,sans-serif; font-size:48px; text-anchor:end;\" transform=\"rotate(0, 143.279, 752.211)\" x=\"143.279\" y=\"752.211\">300</text>\n",
       "</g>\n",
       "<g clip-path=\"url(#clip1200)\">\n",
       "<text style=\"fill:#000000; fill-opacity:1; font-family:Arial,Helvetica Neue,Helvetica,sans-serif; font-size:48px; text-anchor:end;\" transform=\"rotate(0, 143.279, 514.175)\" x=\"143.279\" y=\"514.175\">400</text>\n",
       "</g>\n",
       "<g clip-path=\"url(#clip1200)\">\n",
       "<text style=\"fill:#000000; fill-opacity:1; font-family:Arial,Helvetica Neue,Helvetica,sans-serif; font-size:48px; text-anchor:end;\" transform=\"rotate(0, 143.279, 276.139)\" x=\"143.279\" y=\"276.139\">500</text>\n",
       "</g>\n",
       "<g clip-path=\"url(#clip1200)\">\n",
       "<text style=\"fill:#000000; fill-opacity:1; font-family:Arial,Helvetica Neue,Helvetica,sans-serif; font-size:84px; text-anchor:middle;\" transform=\"rotate(0, 1260.02, 73.2)\" x=\"1260.02\" y=\"73.2\">Simulación medias</text>\n",
       "</g>\n",
       "<path clip-path=\"url(#clip1202)\" d=\"\n",
       "M287.484 194.574 L287.484 1448.82 L431.563 1448.82 L431.563 194.574 L287.484 194.574 L287.484 194.574  Z\n",
       "  \" fill=\"#009af9\" fill-rule=\"evenodd\" fill-opacity=\"1\"/>\n",
       "<polyline clip-path=\"url(#clip1202)\" style=\"stroke:#000000; stroke-width:4; stroke-opacity:1; fill:none\" points=\"\n",
       "  287.484,194.574 287.484,1448.82 431.563,1448.82 431.563,194.574 287.484,194.574 \n",
       "  \"/>\n",
       "<path clip-path=\"url(#clip1202)\" d=\"\n",
       "M467.583 267.851 L467.583 1448.82 L611.662 1448.82 L611.662 267.851 L467.583 267.851 L467.583 267.851  Z\n",
       "  \" fill=\"#009af9\" fill-rule=\"evenodd\" fill-opacity=\"1\"/>\n",
       "<polyline clip-path=\"url(#clip1202)\" style=\"stroke:#000000; stroke-width:4; stroke-opacity:1; fill:none\" points=\"\n",
       "  467.583,267.851 467.583,1448.82 611.662,1448.82 611.662,267.851 467.583,267.851 \n",
       "  \"/>\n",
       "<path clip-path=\"url(#clip1202)\" d=\"\n",
       "M647.682 160.33 L647.682 1448.82 L791.761 1448.82 L791.761 160.33 L647.682 160.33 L647.682 160.33  Z\n",
       "  \" fill=\"#009af9\" fill-rule=\"evenodd\" fill-opacity=\"1\"/>\n",
       "<polyline clip-path=\"url(#clip1202)\" style=\"stroke:#000000; stroke-width:4; stroke-opacity:1; fill:none\" points=\"\n",
       "  647.682,160.33 647.682,1448.82 791.761,1448.82 791.761,160.33 647.682,160.33 \n",
       "  \"/>\n",
       "<path clip-path=\"url(#clip1202)\" d=\"\n",
       "M827.781 240.096 L827.781 1448.82 L971.86 1448.82 L971.86 240.096 L827.781 240.096 L827.781 240.096  Z\n",
       "  \" fill=\"#009af9\" fill-rule=\"evenodd\" fill-opacity=\"1\"/>\n",
       "<polyline clip-path=\"url(#clip1202)\" style=\"stroke:#000000; stroke-width:4; stroke-opacity:1; fill:none\" points=\"\n",
       "  827.781,240.096 827.781,1448.82 971.86,1448.82 971.86,240.096 827.781,240.096 \n",
       "  \"/>\n",
       "<path clip-path=\"url(#clip1202)\" d=\"\n",
       "M1007.88 190.18 L1007.88 1448.82 L1151.96 1448.82 L1151.96 190.18 L1007.88 190.18 L1007.88 190.18  Z\n",
       "  \" fill=\"#009af9\" fill-rule=\"evenodd\" fill-opacity=\"1\"/>\n",
       "<polyline clip-path=\"url(#clip1202)\" style=\"stroke:#000000; stroke-width:4; stroke-opacity:1; fill:none\" points=\"\n",
       "  1007.88,190.18 1007.88,1448.82 1151.96,1448.82 1151.96,190.18 1007.88,190.18 \n",
       "  \"/>\n",
       "<path clip-path=\"url(#clip1202)\" d=\"\n",
       "M1187.98 219.982 L1187.98 1448.82 L1332.06 1448.82 L1332.06 219.982 L1187.98 219.982 L1187.98 219.982  Z\n",
       "  \" fill=\"#009af9\" fill-rule=\"evenodd\" fill-opacity=\"1\"/>\n",
       "<polyline clip-path=\"url(#clip1202)\" style=\"stroke:#000000; stroke-width:4; stroke-opacity:1; fill:none\" points=\"\n",
       "  1187.98,219.982 1187.98,1448.82 1332.06,1448.82 1332.06,219.982 1187.98,219.982 \n",
       "  \"/>\n",
       "<path clip-path=\"url(#clip1202)\" d=\"\n",
       "M1368.08 308.674 L1368.08 1448.82 L1512.16 1448.82 L1512.16 308.674 L1368.08 308.674 L1368.08 308.674  Z\n",
       "  \" fill=\"#009af9\" fill-rule=\"evenodd\" fill-opacity=\"1\"/>\n",
       "<polyline clip-path=\"url(#clip1202)\" style=\"stroke:#000000; stroke-width:4; stroke-opacity:1; fill:none\" points=\"\n",
       "  1368.08,308.674 1368.08,1448.82 1512.16,1448.82 1512.16,308.674 1368.08,308.674 \n",
       "  \"/>\n",
       "<path clip-path=\"url(#clip1202)\" d=\"\n",
       "M1548.18 230.098 L1548.18 1448.82 L1692.25 1448.82 L1692.25 230.098 L1548.18 230.098 L1548.18 230.098  Z\n",
       "  \" fill=\"#009af9\" fill-rule=\"evenodd\" fill-opacity=\"1\"/>\n",
       "<polyline clip-path=\"url(#clip1202)\" style=\"stroke:#000000; stroke-width:4; stroke-opacity:1; fill:none\" points=\"\n",
       "  1548.18,230.098 1548.18,1448.82 1692.25,1448.82 1692.25,230.098 1548.18,230.098 \n",
       "  \"/>\n",
       "<path clip-path=\"url(#clip1202)\" d=\"\n",
       "M1728.27 299.938 L1728.27 1448.82 L1872.35 1448.82 L1872.35 299.938 L1728.27 299.938 L1728.27 299.938  Z\n",
       "  \" fill=\"#009af9\" fill-rule=\"evenodd\" fill-opacity=\"1\"/>\n",
       "<polyline clip-path=\"url(#clip1202)\" style=\"stroke:#000000; stroke-width:4; stroke-opacity:1; fill:none\" points=\"\n",
       "  1728.27,299.938 1728.27,1448.82 1872.35,1448.82 1872.35,299.938 1728.27,299.938 \n",
       "  \"/>\n",
       "<path clip-path=\"url(#clip1202)\" d=\"\n",
       "M1908.37 165.329 L1908.37 1448.82 L2052.45 1448.82 L2052.45 165.329 L1908.37 165.329 L1908.37 165.329  Z\n",
       "  \" fill=\"#009af9\" fill-rule=\"evenodd\" fill-opacity=\"1\"/>\n",
       "<polyline clip-path=\"url(#clip1202)\" style=\"stroke:#000000; stroke-width:4; stroke-opacity:1; fill:none\" points=\"\n",
       "  1908.37,165.329 1908.37,1448.82 2052.45,1448.82 2052.45,165.329 1908.37,165.329 \n",
       "  \"/>\n",
       "<path clip-path=\"url(#clip1202)\" d=\"\n",
       "M2088.47 180.611 L2088.47 1448.82 L2232.55 1448.82 L2232.55 180.611 L2088.47 180.611 L2088.47 180.611  Z\n",
       "  \" fill=\"#009af9\" fill-rule=\"evenodd\" fill-opacity=\"1\"/>\n",
       "<polyline clip-path=\"url(#clip1202)\" style=\"stroke:#000000; stroke-width:4; stroke-opacity:1; fill:none\" points=\"\n",
       "  2088.47,180.611 2088.47,1448.82 2232.55,1448.82 2232.55,180.611 2088.47,180.611 \n",
       "  \"/>\n",
       "<path clip-path=\"url(#clip1200)\" d=\"\n",
       "M1824.68 326.155 L2280.76 326.155 L2280.76 205.195 L1824.68 205.195  Z\n",
       "  \" fill=\"#ffffff\" fill-rule=\"evenodd\" fill-opacity=\"1\"/>\n",
       "<polyline clip-path=\"url(#clip1200)\" style=\"stroke:#000000; stroke-width:4; stroke-opacity:1; fill:none\" points=\"\n",
       "  1824.68,326.155 2280.76,326.155 2280.76,205.195 1824.68,205.195 1824.68,326.155 \n",
       "  \"/>\n",
       "<path clip-path=\"url(#clip1200)\" d=\"\n",
       "M1848.68 289.867 L1992.68 289.867 L1992.68 241.483 L1848.68 241.483 L1848.68 289.867  Z\n",
       "  \" fill=\"#009af9\" fill-rule=\"evenodd\" fill-opacity=\"1\"/>\n",
       "<polyline clip-path=\"url(#clip1200)\" style=\"stroke:#000000; stroke-width:4; stroke-opacity:1; fill:none\" points=\"\n",
       "  1848.68,289.867 1992.68,289.867 1992.68,241.483 1848.68,241.483 1848.68,289.867 \n",
       "  \"/>\n",
       "<g clip-path=\"url(#clip1200)\">\n",
       "<text style=\"fill:#000000; fill-opacity:1; font-family:Arial,Helvetica Neue,Helvetica,sans-serif; font-size:48px; text-anchor:start;\" transform=\"rotate(0, 2016.68, 283.175)\" x=\"2016.68\" y=\"283.175\">[&quot;medias&quot;]</text>\n",
       "</g>\n",
       "</svg>\n"
      ]
     },
     "execution_count": 23,
     "metadata": {},
     "output_type": "execute_result"
    }
   ],
   "source": [
    "xmedias,apmedia=simulacion(nmuestras,ndatosmuestra,datos)\n",
    "bar(xmedias, title = \"Simulación medias\", label = [\"medias\"])"
   ]
  },
  {
   "cell_type": "markdown",
   "metadata": {},
   "source": [
    "La primera columna corresponde a la media de la población e y el resto de las columnas son las medias de las muestras."
   ]
  },
  {
   "cell_type": "markdown",
   "metadata": {},
   "source": [
    "La media de la población μ es:"
   ]
  },
  {
   "cell_type": "code",
   "execution_count": 24,
   "metadata": {},
   "outputs": [
    {
     "data": {
      "text/plain": [
       "526.914"
      ]
     },
     "execution_count": 24,
     "metadata": {},
     "output_type": "execute_result"
    }
   ],
   "source": [
    "mean(datos)"
   ]
  },
  {
   "cell_type": "markdown",
   "metadata": {},
   "source": [
    "Media de las muestras:"
   ]
  },
  {
   "cell_type": "code",
   "execution_count": 25,
   "metadata": {},
   "outputs": [
    {
     "data": {
      "text/plain": [
       "513.582"
      ]
     },
     "execution_count": 25,
     "metadata": {},
     "output_type": "execute_result"
    }
   ],
   "source": [
    "apmedia"
   ]
  },
  {
   "cell_type": "code",
   "execution_count": null,
   "metadata": {},
   "outputs": [],
   "source": []
  }
 ],
 "metadata": {
  "kernelspec": {
   "display_name": "Julia 1.5.2",
   "language": "julia",
   "name": "julia-1.5"
  },
  "language_info": {
   "file_extension": ".jl",
   "mimetype": "application/julia",
   "name": "julia",
   "version": "1.5.2"
  }
 },
 "nbformat": 4,
 "nbformat_minor": 4
}
